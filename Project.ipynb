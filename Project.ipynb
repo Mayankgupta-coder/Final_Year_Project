{
 "cells": [
  {
   "cell_type": "code",
   "execution_count": null,
   "metadata": {},
   "outputs": [],
   "source": [
    "import pyaudio as pd"
   ]
  },
  {
   "cell_type": "code",
   "execution_count": null,
   "metadata": {},
   "outputs": [],
   "source": [
    "import speech_recognition as sr"
   ]
  },
  {
   "cell_type": "code",
   "execution_count": null,
   "metadata": {},
   "outputs": [],
   "source": [
    "import webbrowser as wb"
   ]
  },
  {
   "cell_type": "code",
   "execution_count": null,
   "metadata": {},
   "outputs": [],
   "source": [
    "import pyttsx3"
   ]
  },
  {
   "cell_type": "code",
   "execution_count": null,
   "metadata": {},
   "outputs": [],
   "source": [
    "import os"
   ]
  },
  {
   "cell_type": "code",
   "execution_count": null,
   "metadata": {},
   "outputs": [],
   "source": [
    "text_speech=pyttsx3.init()"
   ]
  },
  {
   "cell_type": "code",
   "execution_count": null,
   "metadata": {},
   "outputs": [],
   "source": [
    "answer=input(\"What you want to convert to speech\")\n",
    "text_speech.say(answer)\n",
    "text_speech.setProperty('volume',1)\n",
    "text_speech.getProperty('volume')\n",
    "text_speech.runAndWait()"
   ]
  },
  {
   "cell_type": "code",
   "execution_count": null,
   "metadata": {},
   "outputs": [],
   "source": [
    "from gtts import gTTS\n",
    "from playsound import  playsound\n",
    "\n",
    "# mytext=\"Hello Geek! How are you doing??\"\n",
    "# language='en'\n",
    "# myobj=gTTS(text=mytext,lang=language,slow=True)\n",
    "# myobj.save(\"welcome1.mp3\")\n",
    "# playsound(\"welcome1.mp3\")\n",
    "tts = gTTS(\"Hello kaise ho aap sab\", lang=\"en\")\n",
    "tts.save(\"hola.mp3\")\n",
    "playsound(\"hola.mp3\")\n",
    "os.remove(\"hola.mp3\")"
   ]
  },
  {
   "cell_type": "code",
   "execution_count": null,
   "metadata": {
    "scrolled": true
   },
   "outputs": [],
   "source": [
    "r = sr.Recognizer()\n",
    "with sr.Microphone() as source:\n",
    "    print('Say Something')\n",
    "    audio=r.listen(source)\n",
    "    print('Done')\n",
    "    text1 = r.recognize_google(audio, language='hi-IN')\n",
    "    text2 = r.recognize_google(audio, language='gu-IN')\n",
    "    text3 = r.recognize_google(audio, language='it-IT')\n",
    "    text4 = r.recognize_google(audio, language='ja-JP')\n",
    "    text5 = r.recognize_google(audio, language='it-CH')\n",
    "#     text6 = r.recognize_google(audio, language='ne-NP')\n",
    "    text7 = r.recognize_google(audio, language='mr-IN')\n",
    "#     text8 = r.recognize_google(audio, language='pa-Guru-IN')\n",
    "\n",
    "    print(text1)\n",
    "    print(text2)\n",
    "    print(text3)\n",
    "    print(text4)\n",
    "    print(text5)\n",
    "#     print(text6)\n",
    "    print(text7)\n",
    "#     print(text8)\n",
    "#     answer=text1\n",
    "#     tts = gTTS(text1, lang=\"en\")\n",
    "#     tts.save(\"hola.mp3\")\n",
    "#     playsound(\"hola.mp3\")\n",
    "#     os.remove(\"hola.mp3\")"
   ]
  },
  {
   "cell_type": "code",
   "execution_count": null,
   "metadata": {
    "scrolled": false
   },
   "outputs": [],
   "source": [
    "import googlesearch as gs   \n",
    "import webbrowser as wb   \n",
    "import speech_recognition as sr\n",
    "r = sr.Recognizer()\n",
    "with sr.Microphone() as source:\n",
    "    print('Say Something')\n",
    "    audio=r.listen(source)\n",
    "    print('Done')\n",
    "    text1 = r.recognize_google(audio, language='en')\n",
    "    first_link=gs.search(text1,num=10,tld=\"co.in\",stop=1,pause=0)  \n",
    "    for i in first_link:\n",
    "        wb.open_new_tab(i)"
   ]
  },
  {
   "cell_type": "code",
   "execution_count": null,
   "metadata": {},
   "outputs": [],
   "source": [
    "import pywhatkit as kt\n",
    "import speech_recognition as sr\n",
    "r = sr.Recognizer()\n",
    "with sr.Microphone() as source:\n",
    "    print('Say Something')\n",
    "    audio=r.listen(source)\n",
    "    print('Done')\n",
    "    text1 = r.recognize_google(audio, language='en')\n",
    "    print(text1)\n",
    "    kt.search(text1)"
   ]
  },
  {
   "cell_type": "code",
   "execution_count": null,
   "metadata": {},
   "outputs": [],
   "source": [
    "# Importing all the necessary modules\n",
    "from tkinter import *\n",
    "from tkinter.messagebox import showinfo\n",
    "import pyttsx3\n",
    "import speech_recognition as sr\n",
    "import pywhatkit as kt\n",
    "import speech_recognition as sr\n",
    "\n",
    "# Creating the TTS and STT functions\n",
    "def speak(text: str):\n",
    "    text_speech= pyttsx3.init()\n",
    "\n",
    "    text_speech.say(text)\n",
    "    text_speech.setProperty('volume',1)\n",
    "    text_speech.getProperty('volume')\n",
    "#     text_speech.setProperty(\"voice\", voices[1].id)\n",
    "    text_speech.runAndWait()\n",
    "\n",
    "\n",
    "def record():\n",
    "    r = sr.Recognizer()\n",
    "    with sr.Microphone() as source:\n",
    "#         print('Say Something')\n",
    "        showinfo(title='Say', message=\"say\")\n",
    "        audio = r.listen(source)\n",
    "   \n",
    "        try:\n",
    "#             print('Done')\n",
    "            query = r.recognize_google(audio, language=\"en\")\n",
    "        except Exception as e:\n",
    "            showinfo(title='Error!', message=e)\n",
    "            speak(\"I am sorry, I did not get that, but could you please repeat that\")\n",
    "\n",
    "            return \"Nothing\"\n",
    "        return query\n",
    "\n",
    "\n",
    "# Creating the main TTS and STT functions and the instruction functions\n",
    "def TTS():\n",
    "    tts_wn = Toplevel(root)\n",
    "    tts_wn.title('Text-to-Speech Converter')\n",
    "    tts_wn.geometry(\"800x800\")\n",
    "    tts_wn.configure(bg='#f79b39')\n",
    "\n",
    "    Label(tts_wn, text='Text-to-Speech Converter', font=(\"Comic Sans MS\", 16), bg='#f79b39').place(x=250,y=30)\n",
    "\n",
    "    text = Text(tts_wn, height=12, width=40, font=16)\n",
    "    text.place(x=200, y=100)\n",
    "\n",
    "    speak_btn = Button(tts_wn, text='Convert',font=(\"Comic Sans MS\", 15), foreground=\"#fff\", bg='#36a61b', command=lambda: speak(str(text.get(1.0, END))))\n",
    "    speak_btn.place(x=340, y=350)\n",
    "\n",
    "\n",
    "def STT():\n",
    "    stt_wn = Toplevel(root)\n",
    "    stt_wn.title('Speech-to-Text Converter')\n",
    "    stt_wn.geometry(\"800x800\")\n",
    "    stt_wn.configure(bg='#f79b39')\n",
    "\n",
    "    Label(stt_wn, text='Speech-to-Text Converter', font=(\"Comic Sans MS\", 16), bg='#f79b39').place(x=250,y=30)\n",
    "\n",
    "    text = Text(stt_wn, height=12, width=40, font=16)\n",
    "    text.place(x=200, y=100)\n",
    "\n",
    "    record_btn = Button(stt_wn, text='Convert',font=(\"Comic Sans MS\", 15), foreground=\"#fff\", bg='#36a61b', command=lambda: text.insert(END, record()))\n",
    "    record_btn.place(x=340, y=350)\n",
    "\n",
    "def voice_search():\n",
    "    r = sr.Recognizer()\n",
    "    with sr.Microphone() as source:\n",
    "#         print('Say Something')\n",
    "        showinfo(title='Say Something', message=\"Say Something\")\n",
    "        audio=r.listen(source)\n",
    "#         print('Done')\n",
    "        text1 = r.recognize_google(audio, language='en')\n",
    "#         print(text1)\n",
    "        kt.search(text1)\n",
    "\n",
    "def instruction():\n",
    "    instructions = '''\n",
    "These are the instructions:\n",
    "1. Wait for some time because STT and TTS conversions take time.\n",
    "2. Pause for 2 seconds to end your phrase in STT conversion, because that is the pause_threshold amount.\n",
    "'''\n",
    "    showinfo(\"Instructions before beginning\", instructions)\n",
    "\n",
    "\n",
    "# Creating the main GUI window\n",
    "root = Tk()\n",
    "root.title('VoiceStreamer and convertor')\n",
    "root.geometry('800x800')\n",
    "root.resizable(0, 0)\n",
    "root.configure(bg='#31b5f7')\n",
    "\n",
    "# Placing all the components\n",
    "Label(root, text='Welcome to VoiceStreamer!!',\n",
    "      font=('Comic Sans MS', 18), bg='#31b5f7', wrap=True, wraplength=500).place(x=250, y=30)\n",
    "\n",
    "tts_btn = Button(root, text='Text-To-Speech', font=('sans-serif', 16), foreground=\"#fff\", bg='#ff59c8', command=TTS)\n",
    "tts_btn.place(x=320, y=160)\n",
    "\n",
    "stt_btn = Button(root, text='Speech-To-Text', font=('sans-serif', 16),foreground=\"#fff\", bg='#ff59c8', command=STT)\n",
    "stt_btn.place(x=320, y=220)\n",
    "\n",
    "search_btn=Button(root, text='Voice search', font=('sans-serif', 16),foreground=\"#fff\", bg='#ff59c8',\n",
    "                         command=voice_search)\n",
    "search_btn.place(x=330, y=280)\n",
    "\n",
    "instruction_btn = Button(root, text='Instructions before starting', font=('sans-serif', 16),foreground=\"#fff\", bg='#ff59c8',\n",
    "                         command=instruction)\n",
    "instruction_btn.place(x=260, y=340)\n",
    "\n",
    "# Updating main window\n",
    "root.update()\n",
    "root.mainloop()"
   ]
  },
  {
   "cell_type": "code",
   "execution_count": 3,
   "metadata": {},
   "outputs": [
    {
     "name": "stdout",
     "output_type": "stream",
     "text": [
      "भारत की राजधानी नई दिल्ली है ।\n"
     ]
    }
   ],
   "source": [
    "from translate import Translator\n",
    "translator= Translator(to_lang=\"hindi\")\n",
    "translation = translator.translate(\"Delhi is the capital of india\")\n",
    "print(translation)"
   ]
  },
  {
   "cell_type": "code",
   "execution_count": null,
   "metadata": {},
   "outputs": [],
   "source": []
  }
 ],
 "metadata": {
  "kernelspec": {
   "display_name": "Python 3",
   "language": "python",
   "name": "python3"
  },
  "language_info": {
   "codemirror_mode": {
    "name": "ipython",
    "version": 3
   },
   "file_extension": ".py",
   "mimetype": "text/x-python",
   "name": "python",
   "nbconvert_exporter": "python",
   "pygments_lexer": "ipython3",
   "version": "3.7.1"
  }
 },
 "nbformat": 4,
 "nbformat_minor": 2
}
